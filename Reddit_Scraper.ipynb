{
 "cells": [
  {
   "cell_type": "code",
   "execution_count": null,
   "id": "4568b60c",
   "metadata": {},
   "outputs": [],
   "source": []
  },
  {
   "cell_type": "code",
   "execution_count": 1,
   "id": "7dadda49",
   "metadata": {},
   "outputs": [],
   "source": [
    "from nltk.sentiment.vader import SentimentIntensityAnalyzer as SIA\n",
    "import pandas as pd\n",
    "import praw\n",
    "from praw.models import MoreComments\n",
    "from nltk.corpus import stopwords\n",
    "from nltk.tokenize import RegexpTokenizer\n",
    "from nltk.stem import WordNetLemmatizer\n",
    "from nltk.stem import PorterStemmer\n",
    "from nltk import FreqDist\n",
    "import emoji\n",
    "import re\n",
    "import en_core_web_sm\n",
    "import spacy\n",
    "import nltk\n",
    "import matplotlib.pyplot as plt\n",
    "import seaborn as sns\n",
    "import plotly.express as px\n",
    "from datetime import datetime as dt, timedelta\n",
    "import pendulum\n",
    "from prawcore.exceptions import Forbidden"
   ]
  },
  {
   "cell_type": "code",
   "execution_count": 2,
   "id": "a48767b3",
   "metadata": {},
   "outputs": [
    {
     "name": "stderr",
     "output_type": "stream",
     "text": [
      "Version 7.4.0 of praw is outdated. Version 7.6.0 was released Tuesday May 10, 2022.\n"
     ]
    }
   ],
   "source": [
    "reddit = praw.Reddit(client_id = '',\n",
    "                     client_secret = '',\n",
    "                     username='',\n",
    "                     password='',\n",
    "                     user_agent='')\n"
   ]
  },
  {
   "cell_type": "code",
   "execution_count": 3,
   "id": "60b2800c",
   "metadata": {},
   "outputs": [],
   "source": [
    "\n",
    "\n",
    "\n",
    "subRedList = ['China_Flu',\n",
    "              'CoronavirusCanada',\n",
    "              'CoronavirusNewYork',\n",
    "              'Coronavirus_PH',\n",
    "              'Coronavirus_KY',\n",
    "              'Coronavirus_NC',\n",
    "              'Coronavirus_BC',\n",
    "              'Coronavirus_Ireland',\n",
    "              'COVID19_Ohio',\n",
    "              'COVID19_Maine',\n",
    "              'COVID19_Testimonials',\n",
    "              'AntiVaxxers',\n",
    "              'COVID19positive',\n",
    "              'modernavaccine',\n",
    "              'COVID19',\n",
    "              'Coronavirus',\n",
    "              'CoronavirusUS',\n",
    "              'HealthAnxiety',\n",
    "              'CoronavirusUK',\n",
    "              'COVID19_support',\n",
    "              'PfizerVaccine',\n",
    "              'Covid19VaccineRats',\n",
    "              'GotTheVaccine',\n",
    "              'CovidAnxiety',\n",
    "              'COVIDVaccineTalk',\n",
    "              'covidlonghaulers',\n",
    "              'AskDocs',\n",
    "              'COVID19_support',\n",
    "             'CoronavirusCA',\n",
    "             'CoronavirusWA',\n",
    "             'CoronavirusNewYork',\n",
    "             'CoronavirusCanada', \n",
    "             'CoronavirusOC',\n",
    "             'CoronavirusAZ',\n",
    "             'CoronaVirusLA',\n",
    "             'CoronaVirusTX',\n",
    "             'CoronaVirusUT',\n",
    "             'Coronavirus_NZ',\n",
    "             'CoronavirusTN',\n",
    "            'CoronavirusAlabama',\n",
    "            'CoronavirusAL', \n",
    "            'CoronavirusMichigan',\n",
    "            'CoronavirusMissouri',\n",
    "            'CoronavirusMA',\n",
    "            'CoronavirusVA',\n",
    "            'CoronaVirusWV',\n",
    "            'CoronavirusOR',\n",
    "            'CoronavirusOregon',\n",
    "            'CoronavirusAZ',\n",
    "            'CoronavirusGA',\n",
    "            'CoronavirusSC',\n",
    "            'CoronavirusNJ',\n",
    "            'coronavirusnewmexico',\n",
    "            'CoronavirusNE',\n",
    "            'CoronavirusIllinois',\n",
    "            'CoronavirusIdaho',\n",
    "            'Coronavirushawaii',\n",
    "            'CoronavirusArmy',\n",
    "            'CoronavirusLouisiana',\n",
    "            'CoronavirusNV',\n",
    "            'Coronavirusnevada',\n",
    "            'CoronavirusMO',\n",
    "            'CoronavirusMontreal',\n",
    "            'CoronavirusMontana',\n",
    "            'CoronavirusMN',\n",
    "            'CoronavirusWI',\n",
    "            'CoronavirusPA',\n",
    "            'CoronavirusNH',\n",
    "            'CoronavirusKansas',\n",
    "            'CoronavirusOH',\n",
    "            'CoronavirusOhio'\n",
    "                             ]\n"
   ]
  },
  {
   "cell_type": "code",
   "execution_count": null,
   "id": "858bae90",
   "metadata": {},
   "outputs": [],
   "source": []
  },
  {
   "cell_type": "code",
   "execution_count": 26,
   "id": "37549ded",
   "metadata": {},
   "outputs": [
    {
     "name": "stdout",
     "output_type": "stream",
     "text": [
      "1\n",
      "2\n",
      "3\n",
      "4\n",
      "5\n",
      "6\n",
      "7\n",
      "8\n",
      "9\n",
      "10\n",
      "11\n",
      "12\n",
      "13\n",
      "14\n",
      "15\n",
      "16\n",
      "17\n",
      "18\n",
      "19\n",
      "20\n",
      "21\n",
      "22\n",
      "23\n",
      "24\n",
      "25\n",
      "26\n",
      "27\n",
      "28\n",
      "29\n",
      "30\n",
      "31\n",
      "32\n",
      "33\n",
      "34\n",
      "35\n",
      "36\n",
      "37\n",
      "38\n",
      "39\n",
      "40\n",
      "41\n",
      "42\n",
      "43\n",
      "44\n",
      "45\n",
      "46\n",
      "47\n",
      "48\n",
      "49\n",
      "50\n",
      "51\n",
      "52\n",
      "53\n",
      "54\n",
      "55\n",
      "56\n",
      "57\n",
      "58\n",
      "59\n",
      "60\n",
      "61\n",
      "62\n",
      "63\n",
      "64\n",
      "65\n",
      "66\n",
      "67\n",
      "68\n",
      "69\n",
      "70\n",
      "71\n",
      "Wall time: 11.2 s\n"
     ]
    }
   ],
   "source": [
    "%%time\n",
    "import pprint\n",
    "import time\n",
    "import praw\n",
    "liat = []\n",
    "i = 0\n",
    "for sub in subRedList:\n",
    "    i = 1+i\n",
    "    print(i)\n",
    "    s=r.subreddit(sub).subscribers\n",
    "    liat.append(s) \n",
    "   \n"
   ]
  },
  {
   "cell_type": "code",
   "execution_count": 25,
   "id": "7fb701a8",
   "metadata": {},
   "outputs": [
    {
     "data": {
      "text/plain": [
       "5590913"
      ]
     },
     "execution_count": 25,
     "metadata": {},
     "output_type": "execute_result"
    }
   ],
   "source": [
    "sum(liat)\n"
   ]
  },
  {
   "cell_type": "code",
   "execution_count": 6,
   "id": "5c7f8b0e",
   "metadata": {},
   "outputs": [],
   "source": [
    "for sub in subRedList:\n",
    "    subRed = reddit.subreddit(sub)\n",
    "    \n",
    "    postlist = []\n",
    "    hot = subRed.top(limit=None)\n",
    "\n",
    "    for submission in hot:                                            \n",
    "        submission.comments.replace_more(limit=0)\n",
    "        for comment in submission.comments:\n",
    "            if dt.fromtimestamp(comment.created_utc).isoformat() >= '2022-03-01T00:00:00':\n",
    "                postlist.append([submission.subreddit,\n",
    "                                 submission.author,\n",
    "                                 dt.fromtimestamp(submission.created_utc).isoformat(),\n",
    "                                 submission.title,\n",
    "                                 submission.url,\n",
    "                                 submission.score,\n",
    "                                 submission.selftext,\n",
    "                                 dt.fromtimestamp(comment.created_utc).isoformat(),\n",
    "                                 comment.body,\n",
    "                                 comment.score,\n",
    "                                 comment.author,\n",
    "                                 submission.num_comments])\n",
    "\n",
    "    comment_DF = pd.DataFrame(postlist, columns = ['subreddit',\n",
    "                                                   'ID',\n",
    "                                                   'body_time',\n",
    "                                                   'title',\n",
    "                                                   'url',\n",
    "                                                   'score',\n",
    "                                                   'body',\n",
    "                                                   'comment_time',\n",
    "                                                   'comment',\n",
    "                                                   'c_Score',\n",
    "                                                   'com_ID',\n",
    "                                                   'comment count'])\n",
    "\n",
    "\n",
    "  \n",
    "\n",
    "    comment_DF\n",
    "    comment_DF.to_csv('%s_3t06_2022_Reddit.csv' %sub)"
   ]
  },
  {
   "cell_type": "code",
   "execution_count": null,
   "id": "efd8e9bf",
   "metadata": {},
   "outputs": [],
   "source": [
    "## Combine CSVs"
   ]
  },
  {
   "cell_type": "code",
   "execution_count": 21,
   "id": "5c2e3b45",
   "metadata": {},
   "outputs": [],
   "source": [
    "import pandas as pd\n",
    "import glob\n",
    "\n",
    "interesting_files = glob.glob(\"*.csv\") \n",
    "df = pd.concat((pd.read_csv(f, header = 0) for f in interesting_files))\n",
    "df_deduplicated = df.drop_duplicates()\n",
    "df_deduplicated.to_csv(\"output.csv\")"
   ]
  },
  {
   "cell_type": "code",
   "execution_count": null,
   "id": "0f909cac",
   "metadata": {},
   "outputs": [],
   "source": [
    "## Delete Nana from \"comment count\" due to weird stuff"
   ]
  },
  {
   "cell_type": "code",
   "execution_count": null,
   "id": "3d0ea640",
   "metadata": {},
   "outputs": [],
   "source": [
    "df = df.dropna(axis=0, subset=('comment count'))"
   ]
  },
  {
   "cell_type": "code",
   "execution_count": 22,
   "id": "fa3a8665",
   "metadata": {},
   "outputs": [
    {
     "name": "stderr",
     "output_type": "stream",
     "text": [
      "D:\\anaconda3\\lib\\site-packages\\IPython\\core\\interactiveshell.py:3185: DtypeWarning: Columns (1,2,8,9,12,14,15,16,17,18,19,20,21,22,23,24,25,26,27,28,29,30,31,32,33,34,35,36,37,38,39,40,41,42,43,44,45,46,47,48,49,50,51,52,53,54,55,56,57,58,59,60,61,62,63,64,65,66,67,68,69,70,71,72,73,74,75,76,77,78,79,80,81,82,83,84,85,86,87,88,89,90,91,92,93,94,95,96,97,98,99,100,101,102,103,104,105,106,107,108,109,110,111,112,113,114,115) have mixed types.Specify dtype option on import or set low_memory=False.\n",
      "  has_raised = await self.run_ast_nodes(code_ast.body, cell_name,\n"
     ]
    }
   ],
   "source": [
    "df = pd.read_csv(\"output.csv\")"
   ]
  },
  {
   "cell_type": "code",
   "execution_count": null,
   "id": "3f62bb79",
   "metadata": {},
   "outputs": [],
   "source": []
  }
 ],
 "metadata": {
  "kernelspec": {
   "display_name": "Python 3 (ipykernel)",
   "language": "python",
   "name": "python3"
  },
  "language_info": {
   "codemirror_mode": {
    "name": "ipython",
    "version": 3
   },
   "file_extension": ".py",
   "mimetype": "text/x-python",
   "name": "python",
   "nbconvert_exporter": "python",
   "pygments_lexer": "ipython3",
   "version": "3.8.8"
  },
  "toc": {
   "base_numbering": 1,
   "nav_menu": {},
   "number_sections": true,
   "sideBar": true,
   "skip_h1_title": false,
   "title_cell": "Table of Contents",
   "title_sidebar": "Contents",
   "toc_cell": false,
   "toc_position": {},
   "toc_section_display": true,
   "toc_window_display": false
  },
  "varInspector": {
   "cols": {
    "lenName": 16,
    "lenType": 16,
    "lenVar": 40
   },
   "kernels_config": {
    "python": {
     "delete_cmd_postfix": "",
     "delete_cmd_prefix": "del ",
     "library": "var_list.py",
     "varRefreshCmd": "print(var_dic_list())"
    },
    "r": {
     "delete_cmd_postfix": ") ",
     "delete_cmd_prefix": "rm(",
     "library": "var_list.r",
     "varRefreshCmd": "cat(var_dic_list()) "
    }
   },
   "types_to_exclude": [
    "module",
    "function",
    "builtin_function_or_method",
    "instance",
    "_Feature"
   ],
   "window_display": true
  }
 },
 "nbformat": 4,
 "nbformat_minor": 5
}
